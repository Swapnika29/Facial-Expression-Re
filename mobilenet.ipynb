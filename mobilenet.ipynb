{
 "cells": [
  {
   "cell_type": "code",
   "execution_count": null,
   "metadata": {},
   "outputs": [],
   "source": [
    "# Import libraries\n",
    "import tensorflow as tf\n",
    "from tensorflow.keras.models import load_model\n",
    "import cv2\n",
    "import numpy as np\n",
    "\n",
    "# Load the MobileNet-based emotion recognition model\n",
    "model = load_model(\"20_epochs_mobilenet_reloaded.keras\")  # Replace with your MobileNet model file name\n",
    "\n",
    "# Define emotion labels\n",
    "emotion_labels = ['Angry', 'contempt', 'Disgust', 'Fear', 'Happy', 'Sad', 'Surprise', 'Neutral']\n",
    "# Function to preprocess frame and predict emotion\n",
    "def detect_emotions(frame):\n",
    "    resized_frame = cv2.resize(frame, (48, 48))  # Resize to 48x48\n",
    "    rgb_frame = cv2.cvtColor(resized_frame, cv2.COLOR_BGR2RGB)\n",
    "    processed_frame = np.expand_dims(rgb_frame, axis=0)\n",
    "    processed_frame = processed_frame / 255.0  # Normalize pixel values\n",
    "\n",
    "    predictions = model.predict(processed_frame)\n",
    "    emotion_index = np.argmax(predictions)\n",
    "    return emotion_labels[emotion_index]\n",
    "\n",
    "\n",
    "\n",
    "# Open the webcam\n",
    "cap = cv2.VideoCapture(0)\n",
    "\n",
    "while True:\n",
    "    ret, frame = cap.read()\n",
    "    if not ret:\n",
    "        break\n",
    "\n",
    "    # Predict emotion for the current frame\n",
    "    emotion = detect_emotions(frame)\n",
    "\n",
    "    # Display emotion on the video feed\n",
    "    cv2.putText(frame, emotion, (50, 50), cv2.FONT_HERSHEY_SIMPLEX, 1, (0, 0, 255), 2)\n",
    "    cv2.imshow('Emotion Recognition with MobileNet', frame)\n",
    "\n",
    "    # Exit when 'q' key is pressed\n",
    "    if cv2.waitKey(1) & 0xFF == ord('q'):\n",
    "        break\n",
    "\n",
    "# Release the webcam and close all OpenCV windows\n",
    "cap.release()\n",
    "cv2.destroyAllWindows()\n"
   ]
  }
 ],
 "metadata": {
  "kernelspec": {
   "display_name": "Python (myenv)",
   "language": "python",
   "name": "myenv"
  },
  "language_info": {
   "name": "python",
   "version": "3.10.13"
  }
 },
 "nbformat": 4,
 "nbformat_minor": 2
}
